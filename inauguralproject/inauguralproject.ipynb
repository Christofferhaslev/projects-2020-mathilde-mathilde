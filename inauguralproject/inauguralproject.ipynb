{
 "cells": [
  {
   "cell_type": "markdown",
   "metadata": {},
   "source": [
    "# Inaugural Project"
   ]
  },
  {
   "cell_type": "markdown",
   "metadata": {},
   "source": [
    "> **Note the following:** \n",
    "> 1. This is an example of how to structure your **inaugural project**.\n",
    "> 1. Remember the general advice on structuring and commenting your code from [lecture 5](https://numeconcopenhagen.netlify.com/lectures/Workflow_and_debugging).\n",
    "> 1. Remember this [guide](https://www.markdownguide.org/basic-syntax/) on markdown and (a bit of) latex.\n",
    "> 1. Turn on automatic numbering by clicking on the small icon on top of the table of contents in the left sidebar.\n",
    "> 1. The `inauguralproject.py` file includes a function which can be used multiple times in this notebook."
   ]
  },
  {
   "cell_type": "markdown",
   "metadata": {},
   "source": [
    "Imports and set magics:"
   ]
  },
  {
   "cell_type": "code",
   "execution_count": 1,
   "metadata": {},
   "outputs": [],
   "source": [
    "import numpy as np\n",
    "import scipy\n",
    "from scipy import optimize\n",
    "import matplotlib.pyplot as plt\n",
    "%matplotlib inline\n",
    "from mpl_toolkits.mplot3d import Axes3D \n",
    "from matplotlib import cm \n",
    "plt.style.use('seaborn-whitegrid')\n",
    "import time\n",
    "\n",
    "# autoreload modules when code is run\n",
    "%load_ext autoreload\n",
    "%autoreload 2\n",
    "\n",
    "# local modules\n",
    "import inauguralproject"
   ]
  },
  {
   "cell_type": "markdown",
   "metadata": {
    "toc-hr-collapsed": true
   },
   "source": [
    "# Question 1"
   ]
  },
  {
   "cell_type": "markdown",
   "metadata": {},
   "source": [
    "We answer question 1 in two ways: First by using scipy optimize to find optimal utility and next by defining our own algorithm that loops through all possibilities to find optimal utility."
   ]
  },
  {
   "cell_type": "markdown",
   "metadata": {},
   "source": [
    "#### Defining initial functions\n",
    "Here we define the utility function that we aim to maximize as well as the budget constraint and the equilibrium condition."
   ]
  },
  {
   "cell_type": "code",
   "execution_count": 2,
   "metadata": {},
   "outputs": [],
   "source": [
    "def u(c, l):\n",
    "    return np.log(c) - v * l **(1+1/eps) / (1+1/eps)\n",
    "\n",
    "def bc(l, w):\n",
    "    return m + w*l - (t_0 * w * l + t_1 * max(w * l - k, 0))\n",
    "\n",
    "def equilibrium(l, w):\n",
    "    c = bc(l, w)\n",
    "    return -u(c, l)"
   ]
  },
  {
   "cell_type": "markdown",
   "metadata": {},
   "source": [
    "Here we use the scipy optimize function to solve the labor supply problem for a wage of 1."
   ]
  },
  {
   "cell_type": "code",
   "execution_count": 3,
   "metadata": {},
   "outputs": [
    {
     "name": "stdout",
     "output_type": "stream",
     "text": [
      "Optimal labour supply: 0.40\n",
      "Optimal consumption: 1.24\n",
      "Utility: 0.17\n",
      "Time elapsed: 0.0022280216 seconds\n"
     ]
    }
   ],
   "source": [
    "start = time.time()\n",
    "\n",
    "w = 1 # float, wage\n",
    "m = 1 # float, cash on hand\n",
    "v = 10 # float, scaling of disutility of labor\n",
    "eps = 0.3 # float, Frisch elasticity of labor supply\n",
    "t_0 = 0.4 # float, standard labor income tax\n",
    "t_1 = 0.1 # float, top bracket labor income tax\n",
    "k = 0.4 # cut-off for the top labor income bracket \n",
    "\n",
    "res = optimize.minimize_scalar(equilibrium,bounds=(0,1),args=(w), method = \"bounded\")\n",
    "l_star = res.x\n",
    "c_star = bc(l_star,w)\n",
    "\n",
    "print(f'Optimal labour supply: {l_star:.2f}')\n",
    "print(f'Optimal consumption: {c_star:.2f}')\n",
    "print(f'Utility: {u(c_star, l_star):.2f}')\n",
    "\n",
    "end = time.time()\n",
    "print(f'Time elapsed: {end - start:.10f} seconds')"
   ]
  },
  {
   "cell_type": "markdown",
   "metadata": {},
   "source": [
    "Here we define the optimization algorithm manually by looping through possibilities. We initialize by guessing of c=l=0. Then we loop through all possibilites of c and l (subject to the constraint) and save the combination of c and l that maximizes utility. "
   ]
  },
  {
   "cell_type": "code",
   "execution_count": 4,
   "metadata": {},
   "outputs": [],
   "source": [
    "def f(w, N=1000, do_print=True):\n",
    "    \n",
    "    # a. allocate numpy arrays\n",
    "    shape_tuple = (N)\n",
    "    c_values = np.empty(shape_tuple)\n",
    "    l_values = np.empty(shape_tuple)\n",
    "    u_values = np.empty(shape_tuple)\n",
    "    \n",
    "    # b. start from guess of c=l=0\n",
    "    c_best = 0\n",
    "    l_best = 0\n",
    "    u_best = u(0,0)\n",
    "    \n",
    "    # c. loop through all possibilities\n",
    "    for i in range(N):\n",
    "        \n",
    "        # i. l must be between 0 and 1\n",
    "        l_values[i] = l = i/N\n",
    "        \n",
    "        # ii. implied c\n",
    "        c_values[i] = c = m + w*l - (t_0 * w * l + t_1 * np.max(w * l - k, 0))\n",
    "            \n",
    "        # iii. utility    \n",
    "        u_values[i] = u(c,l)\n",
    "        \n",
    "        if u_values[i] >= u_best:    \n",
    "            c_best = c_values[i]\n",
    "            l_best = l_values[i] \n",
    "            u_best = u_values[i]\n",
    "            \n",
    "    # d. print\n",
    "    if do_print:\n",
    "        print(f'Optimal labour supply: {l_best:.2f}')\n",
    "        print(f'Optimal consumption: {c_best:.2f}')\n",
    "        print(f'Utility: {u(c_best, l_best):.2f}')\n",
    "\n",
    "    return c_best,l_best,u_best,c_values,l_values,u_values"
   ]
  },
  {
   "cell_type": "markdown",
   "metadata": {},
   "source": [
    "We call the function for a wage of 1 and get the same result as before."
   ]
  },
  {
   "cell_type": "code",
   "execution_count": 5,
   "metadata": {},
   "outputs": [
    {
     "name": "stdout",
     "output_type": "stream",
     "text": [
      "Optimal labour supply: 0.38\n",
      "Optimal consumption: 1.23\n",
      "Utility: 0.17\n",
      "Time elapsed: 0.0758535862 seconds\n"
     ]
    },
    {
     "name": "stderr",
     "output_type": "stream",
     "text": [
      "C:\\Users\\Mathilde Bechmann\\Anaconda3\\lib\\site-packages\\ipykernel_launcher.py:2: RuntimeWarning: divide by zero encountered in log\n",
      "  \n"
     ]
    }
   ],
   "source": [
    "start = time.time()\n",
    "\n",
    "m = 1\n",
    "v = 10\n",
    "eps = 0.3\n",
    "t_0 = 0.4\n",
    "t_1 = 0.1\n",
    "k = 0.4\n",
    "\n",
    "solve = f(w=1)\n",
    "\n",
    "end = time.time()\n",
    "print(f'Time elapsed: {end - start:.10f} seconds')"
   ]
  },
  {
   "cell_type": "markdown",
   "metadata": {},
   "source": [
    "We find that both ways of solving the problem returns the correct result, however scipy optimize is faster, why we will use this function in the rest of the assignment."
   ]
  },
  {
   "cell_type": "markdown",
   "metadata": {},
   "source": [
    "# Question 2\n",
    "We run the algorithm over a range of wages, $w\\in [0.5,1.5]$"
   ]
  },
  {
   "cell_type": "code",
   "execution_count": 6,
   "metadata": {},
   "outputs": [
    {
     "data": {
      "text/plain": [
       "<function matplotlib.pyplot.show>"
      ]
     },
     "execution_count": 6,
     "metadata": {},
     "output_type": "execute_result"
    },
    {
     "data": {
      "image/png": "[encoded data removed]",
      "text/plain": [
       "<Figure size 720x288 with 2 Axes>"
      ]
     },
     "metadata": {},
     "output_type": "display_data"
    }
   ],
   "source": [
    "# a. allocate numpy arrays\n",
    "wages = np.linspace(0.5,1.5,1000)\n",
    "c_plot = np.empty(len(wages))\n",
    "l_plot = np.empty(len(wages))\n",
    "\n",
    "# b. find and save optimal c and l for each wage\n",
    "for i,w in enumerate(wages):\n",
    "    result = optimize.minimize_scalar(equilibrium,bounds=(0,1),args=(w), method = \"bounded\")\n",
    "    l_plot[i] = result.x\n",
    "    c_plot[i] = bc(l_plot[i],w)\n",
    "    \n",
    "# c. plot optimal l and c as functions of wage\n",
    "plt.style.use('seaborn')\n",
    "fig = plt.figure(figsize=(10,4))\n",
    "\n",
    "ax_left = fig.add_subplot(1,2,1)\n",
    "ax_left.plot(wages, c_plot)\n",
    "ax_left.set_title('Optimal consumption')\n",
    "ax_left.set_xlabel('Wage')\n",
    "ax_left.set_ylabel('Optimal consumption')\n",
    "ax_left.grid(True)\n",
    "\n",
    "ax_right = fig.add_subplot(1,2,2)\n",
    "ax_right.plot(wages,l_plot)\n",
    "ax_right.set_title('Optimal labour supply')\n",
    "ax_right.set_xlabel('Wage')\n",
    "ax_right.set_ylabel('Optimal labour supply')\n",
    "ax_right.grid(True)\n",
    "\n",
    "plt.show"
   ]
  },
  {
   "cell_type": "markdown",
   "metadata": {},
   "source": [
    "# Question 3\n",
    "We define a function to calculate tax revenue:"
   ]
  },
  {
   "cell_type": "code",
   "execution_count": 7,
   "metadata": {},
   "outputs": [],
   "source": [
    "def tax_rev(pop_size):\n",
    "    # a. assign numpy arrays\n",
    "    wages = np.linspace(0.5,1.5,pop_size)\n",
    "    l_star = np.empty(pop_size)\n",
    "    # b. find optimal labor choice for each individual\n",
    "    for i,w in enumerate(wages):\n",
    "        res = optimize.minimize_scalar(equilibrium,bounds=(0,1),args=(w), method = \"bounded\")\n",
    "        l_star[i] = res.x\n",
    "    # c. sum tax revenue from each individual \n",
    "    tax_rev = np.sum(t_0*wages*l_star + t_1*np.max(wages*l_star-k,0))\n",
    "    return tax_rev #total tax bill"
   ]
  },
  {
   "cell_type": "markdown",
   "metadata": {},
   "source": [
    "And calculate the tax revenue for a population of 10.000 individuals and an epsilon of 0.3:"
   ]
  },
  {
   "cell_type": "code",
   "execution_count": 8,
   "metadata": {},
   "outputs": [
    {
     "name": "stdout",
     "output_type": "stream",
     "text": [
      "Tax revenue for epsilon = 0.3 is: 1807.15\n"
     ]
    }
   ],
   "source": [
    "eps = 0.3\n",
    "print(f'Tax revenue for epsilon = {eps:.1f} is: {tax_rev(pop_size = 10000):.2f}') "
   ]
  },
  {
   "cell_type": "markdown",
   "metadata": {},
   "source": [
    "# Question 4\n",
    "We calculate the tax revenue for a population of 10.000 individuals and an epsilon of 0.1:"
   ]
  },
  {
   "cell_type": "code",
   "execution_count": 9,
   "metadata": {},
   "outputs": [
    {
     "name": "stdout",
     "output_type": "stream",
     "text": [
      "Tax revenue for epsilon = 0.1 is: 3580.99\n"
     ]
    }
   ],
   "source": [
    "eps = 0.1\n",
    "print(f'Tax revenue for epsilon = {eps:.1f} is: {tax_rev(pop_size = 10000):.2f}') "
   ]
  },
  {
   "cell_type": "markdown",
   "metadata": {},
   "source": [
    "# Question 5\n",
    "We assume that the income taxes range between 0 and 1. \n",
    "We further assume that the cut-off for the top labor income bracket, $\\kappa$ ranges from 0 to 1.5.\n",
    "The reason is that as labor supply, $l$, has a maximum of 1 and wages have a maximum of 1.5, the maximal total wage is 1.5, implying that the maximal top labor income bracket is 1.5. \n",
    "\n",
    "We loop through values of tax rates and kappas to find the combination that maximizes tax revenue. "
   ]
  },
  {
   "cell_type": "markdown",
   "metadata": {},
   "source": [
    "We start by using the optimize function to maximize tax revenue:"
   ]
  },
  {
   "cell_type": "code",
   "execution_count": 14,
   "metadata": {},
   "outputs": [
    {
     "ename": "ValueError",
     "evalue": "The truth value of an array with more than one element is ambiguous. Use a.any() or a.all()",
     "output_type": "error",
     "traceback": [
      "\u001b[1;31m---------------------------------------------------------------------------\u001b[0m",
      "\u001b[1;31mValueError\u001b[0m                                Traceback (most recent call last)",
      "\u001b[1;32m<ipython-input-14-bf8aa60408b0>\u001b[0m in \u001b[0;36m<module>\u001b[1;34m()\u001b[0m\n\u001b[0;32m     29\u001b[0m \u001b[0mbounds\u001b[0m \u001b[1;33m=\u001b[0m \u001b[1;33m(\u001b[0m\u001b[1;33m(\u001b[0m\u001b[1;36m0\u001b[0m\u001b[1;33m,\u001b[0m\u001b[1;36m1\u001b[0m\u001b[1;33m)\u001b[0m\u001b[1;33m,\u001b[0m\u001b[1;33m(\u001b[0m\u001b[1;36m0\u001b[0m\u001b[1;33m,\u001b[0m\u001b[1;36m1\u001b[0m\u001b[1;33m)\u001b[0m\u001b[1;33m,\u001b[0m\u001b[1;33m(\u001b[0m\u001b[1;36m0\u001b[0m\u001b[1;33m,\u001b[0m\u001b[1;36m1.5\u001b[0m\u001b[1;33m)\u001b[0m\u001b[1;33m)\u001b[0m\u001b[1;33m\u001b[0m\u001b[1;33m\u001b[0m\u001b[0m\n\u001b[0;32m     30\u001b[0m \u001b[1;33m\u001b[0m\u001b[0m\n\u001b[1;32m---> 31\u001b[1;33m \u001b[0mres2\u001b[0m \u001b[1;33m=\u001b[0m \u001b[0moptimize\u001b[0m\u001b[1;33m.\u001b[0m\u001b[0mminimize\u001b[0m\u001b[1;33m(\u001b[0m\u001b[0mmax_tax_rev\u001b[0m\u001b[1;33m,\u001b[0m \u001b[0mx0\u001b[0m\u001b[1;33m,\u001b[0m \u001b[0mmethod\u001b[0m\u001b[1;33m=\u001b[0m\u001b[1;34m'SLSQP'\u001b[0m\u001b[1;33m,\u001b[0m \u001b[0mbounds\u001b[0m\u001b[1;33m=\u001b[0m\u001b[0mbounds\u001b[0m\u001b[1;33m)\u001b[0m\u001b[1;33m\u001b[0m\u001b[1;33m\u001b[0m\u001b[0m\n\u001b[0m\u001b[0;32m     32\u001b[0m \u001b[1;33m\u001b[0m\u001b[0m\n\u001b[0;32m     33\u001b[0m \u001b[0mprint\u001b[0m\u001b[1;33m(\u001b[0m\u001b[1;34m'Method: SLSQP'\u001b[0m\u001b[1;33m)\u001b[0m\u001b[1;33m\u001b[0m\u001b[1;33m\u001b[0m\u001b[0m\n",
      "\u001b[1;32m~\\Anaconda3\\lib\\site-packages\\scipy\\optimize\\_minimize.py\u001b[0m in \u001b[0;36mminimize\u001b[1;34m(fun, x0, args, method, jac, hess, hessp, bounds, constraints, tol, callback, options)\u001b[0m\n\u001b[0;32m    609\u001b[0m     \u001b[1;32melif\u001b[0m \u001b[0mmeth\u001b[0m \u001b[1;33m==\u001b[0m \u001b[1;34m'slsqp'\u001b[0m\u001b[1;33m:\u001b[0m\u001b[1;33m\u001b[0m\u001b[1;33m\u001b[0m\u001b[0m\n\u001b[0;32m    610\u001b[0m         return _minimize_slsqp(fun, x0, args, jac, bounds,\n\u001b[1;32m--> 611\u001b[1;33m                                constraints, callback=callback, **options)\n\u001b[0m\u001b[0;32m    612\u001b[0m     \u001b[1;32melif\u001b[0m \u001b[0mmeth\u001b[0m \u001b[1;33m==\u001b[0m \u001b[1;34m'trust-constr'\u001b[0m\u001b[1;33m:\u001b[0m\u001b[1;33m\u001b[0m\u001b[1;33m\u001b[0m\u001b[0m\n\u001b[0;32m    613\u001b[0m         return _minimize_trustregion_constr(fun, x0, args, jac, hess, hessp,\n",
      "\u001b[1;32m~\\Anaconda3\\lib\\site-packages\\scipy\\optimize\\slsqp.py\u001b[0m in \u001b[0;36m_minimize_slsqp\u001b[1;34m(func, x0, args, jac, bounds, constraints, maxiter, ftol, iprint, disp, eps, callback, **unknown_options)\u001b[0m\n\u001b[0;32m    377\u001b[0m \u001b[1;33m\u001b[0m\u001b[0m\n\u001b[0;32m    378\u001b[0m             \u001b[1;31m# Compute objective function\u001b[0m\u001b[1;33m\u001b[0m\u001b[1;33m\u001b[0m\u001b[1;33m\u001b[0m\u001b[0m\n\u001b[1;32m--> 379\u001b[1;33m             \u001b[0mfx\u001b[0m \u001b[1;33m=\u001b[0m \u001b[0mfunc\u001b[0m\u001b[1;33m(\u001b[0m\u001b[0mx\u001b[0m\u001b[1;33m)\u001b[0m\u001b[1;33m\u001b[0m\u001b[1;33m\u001b[0m\u001b[0m\n\u001b[0m\u001b[0;32m    380\u001b[0m             \u001b[1;32mtry\u001b[0m\u001b[1;33m:\u001b[0m\u001b[1;33m\u001b[0m\u001b[1;33m\u001b[0m\u001b[0m\n\u001b[0;32m    381\u001b[0m                 \u001b[0mfx\u001b[0m \u001b[1;33m=\u001b[0m \u001b[0mfloat\u001b[0m\u001b[1;33m(\u001b[0m\u001b[0mnp\u001b[0m\u001b[1;33m.\u001b[0m\u001b[0masarray\u001b[0m\u001b[1;33m(\u001b[0m\u001b[0mfx\u001b[0m\u001b[1;33m)\u001b[0m\u001b[1;33m)\u001b[0m\u001b[1;33m\u001b[0m\u001b[1;33m\u001b[0m\u001b[0m\n",
      "\u001b[1;32m~\\Anaconda3\\lib\\site-packages\\scipy\\optimize\\optimize.py\u001b[0m in \u001b[0;36mfunction_wrapper\u001b[1;34m(*wrapper_args)\u001b[0m\n\u001b[0;32m    291\u001b[0m     \u001b[1;32mdef\u001b[0m \u001b[0mfunction_wrapper\u001b[0m\u001b[1;33m(\u001b[0m\u001b[1;33m*\u001b[0m\u001b[0mwrapper_args\u001b[0m\u001b[1;33m)\u001b[0m\u001b[1;33m:\u001b[0m\u001b[1;33m\u001b[0m\u001b[1;33m\u001b[0m\u001b[0m\n\u001b[0;32m    292\u001b[0m         \u001b[0mncalls\u001b[0m\u001b[1;33m[\u001b[0m\u001b[1;36m0\u001b[0m\u001b[1;33m]\u001b[0m \u001b[1;33m+=\u001b[0m \u001b[1;36m1\u001b[0m\u001b[1;33m\u001b[0m\u001b[1;33m\u001b[0m\u001b[0m\n\u001b[1;32m--> 293\u001b[1;33m         \u001b[1;32mreturn\u001b[0m \u001b[0mfunction\u001b[0m\u001b[1;33m(\u001b[0m\u001b[1;33m*\u001b[0m\u001b[1;33m(\u001b[0m\u001b[0mwrapper_args\u001b[0m \u001b[1;33m+\u001b[0m \u001b[0margs\u001b[0m\u001b[1;33m)\u001b[0m\u001b[1;33m)\u001b[0m\u001b[1;33m\u001b[0m\u001b[1;33m\u001b[0m\u001b[0m\n\u001b[0m\u001b[0;32m    294\u001b[0m \u001b[1;33m\u001b[0m\u001b[0m\n\u001b[0;32m    295\u001b[0m     \u001b[1;32mreturn\u001b[0m \u001b[0mncalls\u001b[0m\u001b[1;33m,\u001b[0m \u001b[0mfunction_wrapper\u001b[0m\u001b[1;33m\u001b[0m\u001b[1;33m\u001b[0m\u001b[0m\n",
      "\u001b[1;32m<ipython-input-14-bf8aa60408b0>\u001b[0m in \u001b[0;36mmax_tax_rev\u001b[1;34m(x)\u001b[0m\n\u001b[0;32m     19\u001b[0m \u001b[1;33m\u001b[0m\u001b[0m\n\u001b[0;32m     20\u001b[0m     \u001b[1;31m# c. sum tax revenue from each individual\u001b[0m\u001b[1;33m\u001b[0m\u001b[1;33m\u001b[0m\u001b[1;33m\u001b[0m\u001b[0m\n\u001b[1;32m---> 21\u001b[1;33m     \u001b[0mrev\u001b[0m \u001b[1;33m=\u001b[0m \u001b[0mnp\u001b[0m\u001b[1;33m.\u001b[0m\u001b[0msum\u001b[0m\u001b[1;33m(\u001b[0m\u001b[0mx\u001b[0m\u001b[1;33m[\u001b[0m\u001b[1;36m0\u001b[0m\u001b[1;33m]\u001b[0m\u001b[1;33m*\u001b[0m\u001b[0mwages\u001b[0m\u001b[1;33m*\u001b[0m\u001b[0ml_star\u001b[0m \u001b[1;33m+\u001b[0m \u001b[0mx\u001b[0m\u001b[1;33m[\u001b[0m\u001b[1;36m1\u001b[0m\u001b[1;33m]\u001b[0m\u001b[1;33m*\u001b[0m\u001b[0mmax\u001b[0m\u001b[1;33m(\u001b[0m\u001b[0mwages\u001b[0m\u001b[1;33m*\u001b[0m\u001b[0ml_star\u001b[0m\u001b[1;33m-\u001b[0m\u001b[0mx\u001b[0m\u001b[1;33m[\u001b[0m\u001b[1;36m2\u001b[0m\u001b[1;33m]\u001b[0m\u001b[1;33m,\u001b[0m\u001b[1;36m0\u001b[0m\u001b[1;33m)\u001b[0m\u001b[1;33m)\u001b[0m\u001b[1;33m\u001b[0m\u001b[1;33m\u001b[0m\u001b[0m\n\u001b[0m\u001b[0;32m     22\u001b[0m     \u001b[1;32mreturn\u001b[0m \u001b[1;33m-\u001b[0m\u001b[0mrev\u001b[0m\u001b[1;33m\u001b[0m\u001b[1;33m\u001b[0m\u001b[0m\n\u001b[0;32m     23\u001b[0m \u001b[1;33m\u001b[0m\u001b[0m\n",
      "\u001b[1;31mValueError\u001b[0m: The truth value of an array with more than one element is ambiguous. Use a.any() or a.all()"
     ]
    }
   ],
   "source": [
    "def max_tax_rev(x):\n",
    "    wages = np.linspace(0.5,1.5,10000)\n",
    "    l_star = np.empty(10000)\n",
    "    c_star = np.empty(10000)\n",
    "    w = 1\n",
    "    m = 1\n",
    "    v = 10\n",
    "    eps = 0.3\n",
    "    \n",
    "    t_0 = x[0]\n",
    "    t_1 = x[1]\n",
    "    k = x[2]\n",
    "    \n",
    "    # b. find optimal labor choice for each individual\n",
    "    for i,w in enumerate(wages):\n",
    "        res = optimize.minimize_scalar(equilibrium,bounds=(0,1),args=(w), method = \"bounded\")\n",
    "        l_star[i] = res.x\n",
    "        c_star[i] = bc(l_star[i],w)\n",
    "    \n",
    "    # c. sum tax revenue from each individual \n",
    "    rev = np.sum(x[0]*wages*l_star + x[1]*max(wages*l_star-x[2],0))\n",
    "    return -rev\n",
    "\n",
    "\n",
    "# Multivariate optimizer\n",
    "# Initial guesses of [t_0, t_1, k]\n",
    "x0 = np.array([1, 1, 1])\n",
    "\n",
    "bounds = ((0,1),(0,1),(0,1.5))\n",
    "\n",
    "res = optimize.minimize(max_tax_rev, x0, method='SLSQP', bounds=bounds)\n",
    "\n",
    "print('Method: SLSQP')\n",
    "print(f'Optimal tax revenue: {-max_tax_rev(res.x):.2f}') \n",
    "print(f'Optimal t_0: {res.x[0]:.2f}')\n",
    "print(f'Optimal t_1: {res.x[1]:.2f}')\n",
    "print(f'Optimal k: {res.x[2]:.2f}')\n"
   ]
  },
  {
   "cell_type": "markdown",
   "metadata": {},
   "source": [
    "# Conclusion"
   ]
  },
  {
   "cell_type": "markdown",
   "metadata": {},
   "source": [
    "In this assignment we have solved the labor supply problem using respectively the scipy optimize function and our own algorithm. The two methods return the same result. We have plotted the optimal consumption and labor supply as functions of wage and calculated tax revenue. Lastly, we have maximized tax revenue with respect to the labor income taxes and the cutoff for the top labor income bracket. "
   ]
  }
 ],
 "metadata": {
  "kernelspec": {
   "display_name": "Python 3",
   "language": "python",
   "name": "python3"
  },
  "language_info": {
   "codemirror_mode": {
    "name": "ipython",
    "version": 3
   },
   "file_extension": ".py",
   "mimetype": "text/x-python",
   "name": "python",
   "nbconvert_exporter": "python",
   "pygments_lexer": "ipython3",
   "version": "3.7.1"
  },
  "toc-autonumbering": true
 },
 "nbformat": 4,
 "nbformat_minor": 4
}
