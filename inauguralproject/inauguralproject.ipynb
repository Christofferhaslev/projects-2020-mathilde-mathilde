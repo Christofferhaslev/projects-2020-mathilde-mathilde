{
 "cells": [
  {
   "cell_type": "markdown",
   "metadata": {},
   "source": [
    "# Inaugural Project"
   ]
  },
  {
   "cell_type": "markdown",
   "metadata": {},
   "source": [
    "> **Note the following:** \n",
    "> 1. This is an example of how to structure your **inaugural project**.\n",
    "> 1. Remember the general advice on structuring and commenting your code from [lecture 5](https://numeconcopenhagen.netlify.com/lectures/Workflow_and_debugging).\n",
    "> 1. Remember this [guide](https://www.markdownguide.org/basic-syntax/) on markdown and (a bit of) latex.\n",
    "> 1. Turn on automatic numbering by clicking on the small icon on top of the table of contents in the left sidebar.\n",
    "> 1. The `inauguralproject.py` file includes a function which can be used multiple times in this notebook."
   ]
  },
  {
   "cell_type": "markdown",
   "metadata": {},
   "source": [
    "Imports and set magics:"
   ]
  },
  {
   "cell_type": "code",
   "execution_count": 1,
   "metadata": {},
   "outputs": [],
   "source": [
    "import numpy as np\n",
    "import scipy\n",
    "from scipy import optimize\n",
    "import matplotlib.pyplot as plt\n",
    "%matplotlib inline\n",
    "from mpl_toolkits.mplot3d import Axes3D \n",
    "from matplotlib import cm \n",
    "plt.style.use('seaborn-whitegrid')\n",
    "import time\n",
    "\n",
    "# autoreload modules when code is run\n",
    "%load_ext autoreload\n",
    "%autoreload 2\n",
    "\n",
    "# local modules\n",
    "import inauguralproject"
   ]
  },
  {
   "cell_type": "markdown",
   "metadata": {
    "toc-hr-collapsed": true
   },
   "source": [
    "# Question 1"
   ]
  },
  {
   "cell_type": "markdown",
   "metadata": {},
   "source": [
    "We answer question 1 in two ways: First by using scipy optimize to find optimal utility and next by defining our own algorithm that loops through all possibilities to find optimal utility."
   ]
  },
  {
   "cell_type": "markdown",
   "metadata": {},
   "source": [
    "#### Defining initial functions\n",
    "Here we define the utility function that we aim to maximize as well as the budget constraint and the equilibrium condition."
   ]
  },
  {
   "cell_type": "code",
   "execution_count": 2,
   "metadata": {},
   "outputs": [],
   "source": [
    "def u(c, l):\n",
    "    return np.log(c) - v * l **(1+1/eps) / (1+1/eps)\n",
    "\n",
    "def bc(l, w):\n",
    "    return m + w*l - (t_0 * w * l + t_1 * np.max(w * l - k, 0))\n",
    "\n",
    "def equilibrium(l, w):\n",
    "    c = bc(l, w)\n",
    "    return -u(c, l)"
   ]
  },
  {
   "cell_type": "markdown",
   "metadata": {},
   "source": [
    "Here we use the scipy optimize function to solve the labor supply problem for a wage of 1."
   ]
  },
  {
   "cell_type": "code",
   "execution_count": 3,
   "metadata": {},
   "outputs": [
    {
     "name": "stdout",
     "output_type": "stream",
     "text": [
      "Optimal labour supply: 0.38\n",
      "Optimal consumption: 1.23\n",
      "Utility: 0.17\n",
      "Time elapsed: 0.0009636879 seconds\n"
     ]
    }
   ],
   "source": [
    "start = time.time()\n",
    "\n",
    "w = 1\n",
    "m = 1\n",
    "v = 10\n",
    "eps = 0.3\n",
    "t_0 = 0.4\n",
    "t_1 = 0.1\n",
    "k = 0.4\n",
    "\n",
    "res = optimize.minimize_scalar(equilibrium,bounds=(0,1),args=(w), method = \"bounded\")\n",
    "l_star = res.x\n",
    "c_star = bc(l_star,w)\n",
    "\n",
    "print(f'Optimal labour supply: {l_star:.2f}')\n",
    "print(f'Optimal consumption: {c_star:.2f}')\n",
    "print(f'Utility: {u(c_star, l_star):.2f}')\n",
    "\n",
    "end = time.time()\n",
    "print(f'Time elapsed: {end - start:.10f} seconds')"
   ]
  },
  {
   "cell_type": "markdown",
   "metadata": {},
   "source": [
    "Here we define the optimization algorithm manually by looping through possibilities. We initialize by guessing of c=l=0. Then we loop through all possibilites of c and l (subject to the constraint) and save the combination of c and l that maximizes utility. "
   ]
  },
  {
   "cell_type": "code",
   "execution_count": 4,
   "metadata": {},
   "outputs": [],
   "source": [
    "def f(w, N=1000, do_print=True):\n",
    "    \n",
    "    # a. allocate numpy arrays\n",
    "    shape_tuple = (N)\n",
    "    c_values = np.empty(shape_tuple)\n",
    "    l_values = np.empty(shape_tuple)\n",
    "    u_values = np.empty(shape_tuple)\n",
    "    \n",
    "    # b. start from guess of c=l=0\n",
    "    c_best = 0\n",
    "    l_best = 0\n",
    "    u_best = u(0,0)\n",
    "    \n",
    "    # c. loop through all possibilities\n",
    "    for i in range(N):\n",
    "        \n",
    "        # i. l must be between 0 and 1\n",
    "        l_values[i] = l = i/N\n",
    "        \n",
    "        # ii. implied c\n",
    "        c_values[i] = c = m + w*l - (t_0 * w * l + t_1 * np.max(w * l - k, 0))\n",
    "            \n",
    "        # iii. utility    \n",
    "        u_values[i] = u(c,l)\n",
    "        \n",
    "        if u_values[i] >= u_best:    \n",
    "            c_best = c_values[i]\n",
    "            l_best = l_values[i] \n",
    "            u_best = u_values[i]\n",
    "            \n",
    "    # d. print\n",
    "    if do_print:\n",
    "        print(f'Optimal labour supply: {l_best:.2f}')\n",
    "        print(f'Optimal consumption: {c_best:.2f}')\n",
    "        print(f'Utility: {u(c_best, l_best):.2f}')\n",
    "\n",
    "    return c_best,l_best,u_best,c_values,l_values,u_values"
   ]
  },
  {
   "cell_type": "markdown",
   "metadata": {},
   "source": [
    "We call the function for a wage of 1 and get the same result as before."
   ]
  },
  {
   "cell_type": "code",
   "execution_count": 5,
   "metadata": {},
   "outputs": [
    {
     "name": "stdout",
     "output_type": "stream",
     "text": [
      "Optimal labour supply: 0.38\n",
      "Optimal consumption: 1.23\n",
      "Utility: 0.17\n",
      "Time elapsed: 0.0101752281 seconds\n"
     ]
    },
    {
     "name": "stderr",
     "output_type": "stream",
     "text": [
      "C:\\Users\\Mathilde Bechmann\\Anaconda3\\lib\\site-packages\\ipykernel_launcher.py:2: RuntimeWarning: divide by zero encountered in log\n",
      "  \n"
     ]
    }
   ],
   "source": [
    "start = time.time()\n",
    "\n",
    "m = 1\n",
    "v = 10\n",
    "eps = 0.3\n",
    "t_0 = 0.4\n",
    "t_1 = 0.1\n",
    "k = 0.4\n",
    "\n",
    "solve = f(w=1)\n",
    "\n",
    "end = time.time()\n",
    "print(f'Time elapsed: {end - start:.10f} seconds')"
   ]
  },
  {
   "cell_type": "markdown",
   "metadata": {},
   "source": [
    "We find that both ways of solving the problem returns the correct result, however scipy optimize is faster, why we will use this function in the rest of the assignment."
   ]
  },
  {
   "cell_type": "markdown",
   "metadata": {},
   "source": [
    "# Question 2\n",
    "We run the algorithm over a range of wages, $w\\in [0.5,1.5]$"
   ]
  },
  {
   "cell_type": "code",
   "execution_count": 6,
   "metadata": {},
   "outputs": [
    {
     "data": {
      "text/plain": [
       "<function matplotlib.pyplot.show>"
      ]
     },
     "execution_count": 6,
     "metadata": {},
     "output_type": "execute_result"
    },
    {
     "data": {
      "image/png": "[encoded data removed]",
      "text/plain": [
       "<Figure size 720x288 with 2 Axes>"
      ]
     },
     "metadata": {},
     "output_type": "display_data"
    }
   ],
   "source": [
    "# a. allocate numpy arrays\n",
    "wages = np.linspace(0.5,1.5,1000)\n",
    "c_plot = np.empty(len(wages))\n",
    "l_plot = np.empty(len(wages))\n",
    "\n",
    "# b. find and save optimal c and l for each wage\n",
    "for i,w in enumerate(wages):\n",
    "    result = optimize.minimize_scalar(equilibrium,bounds=(0,1),args=(w), method = \"bounded\")\n",
    "    l_plot[i] = result.x\n",
    "    c_plot[i] = bc(l_plot[i],w)\n",
    "    \n",
    "# c. plot optimal l and c as functions of wage\n",
    "plt.style.use('seaborn')\n",
    "fig = plt.figure(figsize=(10,4))\n",
    "\n",
    "ax_left = fig.add_subplot(1,2,1)\n",
    "ax_left.plot(wages, c_plot)\n",
    "ax_left.set_title('Optimal consumption')\n",
    "ax_left.set_xlabel('Wage')\n",
    "ax_left.set_ylabel('Optimal consumption')\n",
    "ax_left.grid(True)\n",
    "\n",
    "ax_right = fig.add_subplot(1,2,2)\n",
    "ax_right.plot(wages,l_plot)\n",
    "ax_right.set_title('Optimal labour supply')\n",
    "ax_right.set_xlabel('Wage')\n",
    "ax_right.set_ylabel('Optimal labour supply')\n",
    "ax_right.grid(True)\n",
    "\n",
    "plt.show"
   ]
  },
  {
   "cell_type": "markdown",
   "metadata": {},
   "source": [
    "# Question 3\n",
    "We define a function to calculate tax revenue:"
   ]
  },
  {
   "cell_type": "code",
   "execution_count": 7,
   "metadata": {},
   "outputs": [],
   "source": [
    "def tax_rev(pop_size):\n",
    "    # a. assign numpy arrays\n",
    "    wages = np.linspace(0.5,1.5,pop_size)\n",
    "    l_star = np.empty(pop_size)\n",
    "    # b. find optimal labor choice for each individual\n",
    "    for i,w in enumerate(wages):\n",
    "        res = optimize.minimize_scalar(equilibrium,bounds=(0,1),args=(w), method = \"bounded\")\n",
    "        l_star[i] = res.x\n",
    "    # c. sum tax revenue from each individual \n",
    "    tax_rev = np.sum(t_0*wages*l_star + t_1*np.max(wages*l_star-k,0))\n",
    "    return tax_rev"
   ]
  },
  {
   "cell_type": "markdown",
   "metadata": {},
   "source": [
    "And calculate the tax revenue for a population of 10.000 individuals and an epsilon of 0.3:"
   ]
  },
  {
   "cell_type": "code",
   "execution_count": 8,
   "metadata": {},
   "outputs": [
    {
     "name": "stdout",
     "output_type": "stream",
     "text": [
      "Tax revenue for epsilon = 0.3 is: 1775.39\n"
     ]
    }
   ],
   "source": [
    "eps = 0.3\n",
    "print(f'Tax revenue for epsilon = {eps:.1f} is: {tax_rev(pop_size = 10000):.2f}') "
   ]
  },
  {
   "cell_type": "markdown",
   "metadata": {},
   "source": [
    "# Question 4\n",
    "We calculate the tax revenue for a population of 10.000 individuals and an epsilon of 0.1:"
   ]
  },
  {
   "cell_type": "code",
   "execution_count": 9,
   "metadata": {},
   "outputs": [
    {
     "name": "stdout",
     "output_type": "stream",
     "text": [
      "Tax revenue for epsilon = 0.1 is: 3578.90\n"
     ]
    }
   ],
   "source": [
    "eps = 0.1\n",
    "print(f'Tax revenue for epsilon = {eps:.1f} is: {tax_rev(pop_size = 10000):.2f}') "
   ]
  },
  {
   "cell_type": "markdown",
   "metadata": {},
   "source": [
    "# Question 5\n",
    "We assume that the income taxes range between 0 and 1. \n",
    "We further assume that the cut-off for the top labor income bracket, $\\kappa$ ranges from 0 to 1.5.\n",
    "The reason is that as labor supply, $l$, has a maximum of 1 and wages have a maximum of 1.5, the maximal total wage is 1.5, implying that the maximal top labor income bracket is 1.5. \n",
    "\n",
    "We loop through values of tax rates and kappas to find the combination that maximizes tax revenue. "
   ]
  },
  {
   "cell_type": "markdown",
   "metadata": {},
   "source": [
    "We start by using the optimize function to maximize tax revenue:"
   ]
  },
  {
   "cell_type": "code",
   "execution_count": 10,
   "metadata": {},
   "outputs": [
    {
     "name": "stdout",
     "output_type": "stream",
     "text": [
      "Method: L-BFGS-B\n",
      "Optimal tax revenue: -18235.24\n",
      "Optimal t_0: 1.00\n",
      "Optimal t_1: 1.00\n",
      "Optimal k: 0.00\n",
      "Method: SLSQP\n",
      "Optimal tax revenue: -18232.50\n",
      "Optimal t_0: 1.00\n",
      "Optimal t_1: 1.00\n",
      "Optimal k: 0.00\n"
     ]
    }
   ],
   "source": [
    "def max_tax_rev(x):\n",
    "    wages = np.linspace(0.5,1.5,10000)\n",
    "    l_star = np.empty(10000)\n",
    "    c_star = np.empty(10000)\n",
    "    w = 1\n",
    "    m = 1\n",
    "    v = 10\n",
    "    eps = 0.3\n",
    "    \n",
    "    t_0 = x[0]\n",
    "    t_1 = x[1]\n",
    "    k = x[2]\n",
    "    \n",
    "    # b. find optimal labor choice for each individual\n",
    "    for i,w in enumerate(wages):\n",
    "        res = optimize.minimize_scalar(equilibrium,bounds=(0,1),args=(w), method = \"bounded\")\n",
    "        l_star[i] = res.x\n",
    "        c_star[i] = bc(l_star[i],w)\n",
    "    \n",
    "    # c. sum tax revenue from each individual \n",
    "    rev = np.sum(x[0]*wages*l_star + x[1]*np.max(wages*l_star-x[2],0))\n",
    "    return -rev\n",
    "\n",
    "# Multivariate optimizer\n",
    "# Initial guesses of [t_0, t_1, k]\n",
    "x0 = np.array([1, 1, 1])\n",
    "\n",
    "bounds = ((0,1),(0,1),(0,1.5))\n",
    "\n",
    "res1 = optimize.minimize(max_tax_rev, x0, method = 'L-BFGS-B', bounds = bounds)\n",
    "res2 = optimize.minimize(max_tax_rev, x0, method='SLSQP', bounds=bounds)\n",
    "\n",
    "\n",
    "print('Method: L-BFGS-B')\n",
    "print(f'Optimal tax revenue: {max_tax_rev(res1.x):.2f}') \n",
    "print(f'Optimal t_0: {res1.x[0]:.2f}')\n",
    "print(f'Optimal t_1: {res1.x[1]:.2f}')\n",
    "print(f'Optimal k: {res1.x[2]:.2f}')\n",
    "\n",
    "\n",
    "print('Method: SLSQP')\n",
    "print(f'Optimal tax revenue: {max_tax_rev(res2.x):.2f}') \n",
    "print(f'Optimal t_0: {res2.x[0]:.2f}')\n",
    "print(f'Optimal t_1: {res2.x[1]:.2f}')\n",
    "print(f'Optimal k: {res2.x[2]:.2f}')\n"
   ]
  },
  {
   "cell_type": "markdown",
   "metadata": {},
   "source": [
    "From this we find the maximal tax revenue by setting both tax rates to 1, which clearly does not make sense, as tax rates of 1 will eliminate the labor supply. Something is wrong in the above optimization. We cannot find the mistake, why we instead try to optimize tax revenue in the loop below."
   ]
  },
  {
   "cell_type": "code",
   "execution_count": 11,
   "metadata": {},
   "outputs": [
    {
     "name": "stdout",
     "output_type": "stream",
     "text": [
      "Maximal tax revenue is: 8788.13\n",
      "Optimal t_0: 0.00\n",
      "Optimal t_1: 0.90\n",
      "Optimal k: 0.00\n",
      "Time elapsed: 14941.6665136814 seconds\n"
     ]
    }
   ],
   "source": [
    "start = time.time()\n",
    "taxes = [0,0.1,0.2,0.3,0.4,0.5,0.6,0.7,0.8,0.9,1]\n",
    "kappas = [0,0.1,0.2,0.3,0.4,0.5,0.6,0.7,0.8,0.9,1,1.1,1.2,1.3,1.4,1.5]\n",
    "\n",
    "opt_rev = 0\n",
    "opt_k = 0\n",
    "opt_t1 = 0\n",
    "opt_t0 = 0\n",
    "\n",
    "# for tax_0 in taxes:\n",
    "#     t_0 = tax_0\n",
    "#     rev = tax_rev(pop_size = 10000)\n",
    "#     if rev > opt_rev:\n",
    "#         opt_rev = rev\n",
    "#         opt_t0 = t_0\n",
    "\n",
    "for tax_0 in taxes:\n",
    "    for tax_1 in taxes:\n",
    "        for ka in kappas:\n",
    "            t_0 = tax_0\n",
    "            t_1 = tax_1\n",
    "            k = ka\n",
    "            rev = tax_rev(pop_size = 10000)\n",
    "            if rev > opt_rev:\n",
    "                opt_rev = rev\n",
    "                opt_k = k\n",
    "                opt_t1 = t_1\n",
    "                opt_t0 = t_0\n",
    "                \n",
    "print(f'Maximal tax revenue is: {opt_rev:.2f}')\n",
    "print(f'Optimal t_0: {opt_t0:.2f}')\n",
    "print(f'Optimal t_1: {opt_t1:.2f}')\n",
    "print(f'Optimal k: {opt_k:.2f}')\n",
    "\n",
    "end = time.time()\n",
    "print(f'Time elapsed: {end - start:.10f} seconds')"
   ]
  },
  {
   "cell_type": "markdown",
   "metadata": {},
   "source": [
    "Although the loop is quite time consuming, we find a more plausible result with a a maximum tax revenue of ... when we set t_0 = ..., t_1 = ... and k = ..."
   ]
  },
  {
   "cell_type": "markdown",
   "metadata": {},
   "source": [
    "# Conclusion"
   ]
  },
  {
   "cell_type": "markdown",
   "metadata": {},
   "source": [
    "In this assignment we have solved the labor supply problem using respectively the scipy optimize function and our own algorithm. The two methods return the same result. We have plotted the optimal consumption and labor supply as functions of wage and calculated tax revenue. Lastly, we have maximized tax revenue with respect to the labor income taxes and the cutoff for the top labor income bracket. "
   ]
  }
 ],
 "metadata": {
  "kernelspec": {
   "display_name": "Python 3",
   "language": "python",
   "name": "python3"
  },
  "language_info": {
   "codemirror_mode": {
    "name": "ipython",
    "version": 3
   },
   "file_extension": ".py",
   "mimetype": "text/x-python",
   "name": "python",
   "nbconvert_exporter": "python",
   "pygments_lexer": "ipython3",
   "version": "3.7.1"
  },
  "toc-autonumbering": true
 },
 "nbformat": 4,
 "nbformat_minor": 4
}
