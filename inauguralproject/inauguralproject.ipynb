{
 "cells": [
  {
   "cell_type": "markdown",
   "metadata": {},
   "source": [
    "# Inaugural Project"
   ]
  },
  {
   "cell_type": "markdown",
   "metadata": {},
   "source": [
    "> **Note the following:** \n",
    "> 1. This is an example of how to structure your **inaugural project**.\n",
    "> 1. Remember the general advice on structuring and commenting your code from [lecture 5](https://numeconcopenhagen.netlify.com/lectures/Workflow_and_debugging).\n",
    "> 1. Remember this [guide](https://www.markdownguide.org/basic-syntax/) on markdown and (a bit of) latex.\n",
    "> 1. Turn on automatic numbering by clicking on the small icon on top of the table of contents in the left sidebar.\n",
    "> 1. The `inauguralproject.py` file includes a function which can be used multiple times in this notebook."
   ]
  },
  {
   "cell_type": "markdown",
   "metadata": {},
   "source": [
    "Imports and set magics:"
   ]
  },
  {
   "cell_type": "code",
   "execution_count": 2,
   "metadata": {},
   "outputs": [],
   "source": [
    "import numpy as np\n",
    "import scipy\n",
    "from scipy import optimize\n",
    "import matplotlib.pyplot as plt\n",
    "%matplotlib inline\n",
    "from mpl_toolkits.mplot3d import Axes3D \n",
    "from matplotlib import cm \n",
    "plt.style.use('seaborn-whitegrid')\n",
    "import time\n",
    "\n",
    "# autoreload modules when code is run\n",
    "%load_ext autoreload\n",
    "%autoreload 2\n",
    "\n",
    "# local modules\n",
    "import inauguralproject"
   ]
  },
  {
   "cell_type": "markdown",
   "metadata": {},
   "source": [
    "# Question 1"
   ]
  },
  {
   "cell_type": "markdown",
   "metadata": {},
   "source": [
    "We answer question 1 in two ways: First by using scipy optimize to find optimal utility and next by defining our own algorithm that loops through all possibilities to find optimal utility."
   ]
  },
  {
   "cell_type": "markdown",
   "metadata": {},
   "source": [
    "#### Defining initial functions\n",
    "Here we define the utility function that we aim to maximize as well as the budget constraint and the equilibrium condition."
   ]
  },
  {
   "cell_type": "code",
   "execution_count": 3,
   "metadata": {},
   "outputs": [],
   "source": [
    "def u(c, l):\n",
    "    \"\"\" utility function, calculates utility given consumption and labor supply\n",
    "    \n",
    "    Args:\n",
    "    \n",
    "        c (float): consumption\n",
    "        l (float): labor supply\n",
    "        \n",
    "    Returns:\n",
    "        (float): utility\n",
    "    \"\"\"\n",
    "    return np.log(c) - v * l **(1+1/eps) / (1+1/eps)\n",
    "\n",
    "def optimal_consumption(l,m,w,t_0,t_1,k):\n",
    "    \"\"\" budget constraint, calculates optimal consumption given labor supply, wage and parameters\n",
    "    \n",
    "    Args:\n",
    "    \n",
    "        l (float): labor supply\n",
    "        w (float): wage\n",
    "    Returns:\n",
    "        (float): optimal consumption\n",
    "    \"\"\"\n",
    "    \n",
    "    return m + w*l - (t_0 * w * l + t_1 * max(w * l - k, 0))\n",
    "\n",
    "def equilibrium(l,v,eps,m,w,t_0,t_1,k):\n",
    "    \"\"\" calculates optimal consumption and resulting utility given labor supply, wage and parameters\n",
    "    \n",
    "    Args:\n",
    "     \n",
    "        l (float): labor supply\n",
    "        w (float): wage\n",
    "        \n",
    "    Returns:\n",
    "        (float): negative utility\n",
    "    \"\"\"\n",
    "    \n",
    "    c = optimal_consumption(l,m,w,t_0,t_1,k)\n",
    "    return -u(c, l)\n"
   ]
  },
  {
   "cell_type": "markdown",
   "metadata": {},
   "source": [
    "Here we use the scipy optimize function to solve the labor supply problem for a wage of 1."
   ]
  },
  {
   "cell_type": "code",
   "execution_count": 4,
   "metadata": {},
   "outputs": [
    {
     "name": "stdout",
     "output_type": "stream",
     "text": [
      "Optimal labour supply: 0.40\n",
      "Optimal consumption: 1.24\n",
      "Utility: 0.17\n",
      "Time elapsed: 0.0019953251 seconds\n"
     ]
    }
   ],
   "source": [
    "start = time.time()\n",
    "\n",
    "# a. set parameters\n",
    "m = 1     # float, cash-on-hand\n",
    "v = 10    # float, scaling of disutility of labor supply\n",
    "w = 1     # float, wage\n",
    "eps = 0.3 # float, Frisch elasticity of labor supply\n",
    "t_0 = 0.4 # float, standard labor income tax\n",
    "t_1 = 0.1 # float, top bracket labor income tax\n",
    "k = 0.4   # float, cut-off for the top labor income bracket \n",
    "\n",
    "# b. find optimal labor supply and consumption \n",
    "res = optimize.minimize_scalar(equilibrium,bounds=(0,1),args=(v,eps,m,w,t_0,t_1,k), method = \"bounded\")\n",
    "l_star = res.x\n",
    "c_star = optimal_consumption(l_star,m,w, t_0, t_1, k)\n",
    "\n",
    "# c. print results\n",
    "print(f'Optimal labour supply: {l_star:.2f}')\n",
    "print(f'Optimal consumption: {c_star:.2f}')\n",
    "print(f'Utility: {u(c_star, l_star):.2f}')\n",
    "\n",
    "end = time.time()\n",
    "print(f'Time elapsed: {end - start:.10f} seconds')"
   ]
  },
  {
   "cell_type": "markdown",
   "metadata": {},
   "source": [
    "#### Manual optimization"
   ]
  },
  {
   "cell_type": "markdown",
   "metadata": {},
   "source": [
    "Here we define the optimization algorithm manually by looping through possibilities. We initialize by guessing of c=l=0. Then we loop through all possibilites of c and l (subject to the constraint) and save the combination of c and l that maximizes utility. "
   ]
  },
  {
   "cell_type": "code",
   "execution_count": 5,
   "metadata": {},
   "outputs": [],
   "source": [
    "def f(w, N=1000, do_print=True):\n",
    "    \"\"\" calculates optimal labor supply, consumption and resulting utility given wage and parameters\n",
    "    \n",
    "    Args:\n",
    "    \n",
    "        w (float): wage\n",
    "        N (int): default = 1000, number of iterations in loop\n",
    "        do_print (bool): default = True, prints result\n",
    "        \n",
    "    Returns:\n",
    "        c_best (float): optimal consumption choice\n",
    "        l_best (float): optimal labor supply choice\n",
    "        u_best (float): optimal utility given optimal consumption and labor\n",
    "        c_values (tuple): all values of consumption calculated in loop\n",
    "        l_values (tuple): all values of labor supply used in loop\n",
    "        u_values (tuple): all values of utility calculated in loop\n",
    "    \"\"\"\n",
    "    # a. allocate numpy arrays\n",
    "    shape_tuple = (N)\n",
    "    c_values = np.empty(shape_tuple)\n",
    "    l_values = np.empty(shape_tuple)\n",
    "    u_values = np.empty(shape_tuple)\n",
    "    \n",
    "    # b. start from guess of c=l=0\n",
    "    c_best = 0\n",
    "    l_best = 0\n",
    "    u_best = u(0,0)\n",
    "    \n",
    "    # c. loop through all possibilities\n",
    "    for i in range(N):\n",
    "        \n",
    "        # i. l must be between 0 and 1\n",
    "        l_values[i] = l = i/N\n",
    "        \n",
    "        # ii. implied c\n",
    "        c_values[i] = c = m + w*l - (t_0 * w * l + t_1 * max(w * l - k, 0))\n",
    "            \n",
    "        # iii. utility    \n",
    "        u_values[i] = u(c,l)\n",
    "        \n",
    "        if u_values[i] >= u_best:    \n",
    "            c_best = c_values[i]\n",
    "            l_best = l_values[i] \n",
    "            u_best = u_values[i]\n",
    "            \n",
    "    # d. print\n",
    "    if do_print:\n",
    "        print(f'Optimal labour supply: {l_best:.2f}')\n",
    "        print(f'Optimal consumption: {c_best:.2f}')\n",
    "        print(f'Utility: {u(c_best, l_best):.2f}')\n",
    "\n",
    "    return c_best,l_best,u_best,c_values,l_values,u_values"
   ]
  },
  {
   "cell_type": "markdown",
   "metadata": {},
   "source": [
    "We call the function for a wage of 1 and get the same result as before."
   ]
  },
  {
   "cell_type": "code",
   "execution_count": 6,
   "metadata": {},
   "outputs": [
    {
     "name": "stdout",
     "output_type": "stream",
     "text": [
      "Optimal labour supply: 0.40\n",
      "Optimal consumption: 1.24\n",
      "Utility: 0.17\n",
      "Time elapsed: 0.0040042400 seconds\n"
     ]
    },
    {
     "name": "stderr",
     "output_type": "stream",
     "text": [
      "C:\\Users\\Mathilde Bechmann\\anaconda3\\lib\\site-packages\\ipykernel_launcher.py:12: RuntimeWarning: divide by zero encountered in log\n",
      "  if sys.path[0] == '':\n"
     ]
    }
   ],
   "source": [
    "start = time.time()\n",
    "\n",
    "m = 1\n",
    "v = 10\n",
    "eps = 0.3\n",
    "t_0 = 0.4\n",
    "t_1 = 0.1\n",
    "k = 0.4\n",
    "\n",
    "solve = f(w=1)\n",
    "\n",
    "end = time.time()\n",
    "print(f'Time elapsed: {end - start:.10f} seconds')"
   ]
  },
  {
   "cell_type": "markdown",
   "metadata": {},
   "source": [
    "We find that both ways of solving the problem returns the correct result, however scipy optimize is faster, why we will use this function in the rest of the assignment."
   ]
  },
  {
   "cell_type": "markdown",
   "metadata": {},
   "source": [
    "# Question 2\n",
    "We run the algorithm over a range of wages, $w\\in [0.5,1.5]$"
   ]
  },
  {
   "cell_type": "code",
   "execution_count": 7,
   "metadata": {},
   "outputs": [
    {
     "data": {
      "text/plain": [
       "<function matplotlib.pyplot.show(*args, **kw)>"
      ]
     },
     "execution_count": 7,
     "metadata": {},
     "output_type": "execute_result"
    },
    {
     "data": {
      "image/png": "[encoded data removed]",
      "text/plain": [
       "<Figure size 720x288 with 2 Axes>"
      ]
     },
     "metadata": {},
     "output_type": "display_data"
    }
   ],
   "source": [
    "# a. allocate numpy arrays\n",
    "wages = np.linspace(0.5,1.5,1000)\n",
    "c_plot = np.empty(len(wages))\n",
    "l_plot = np.empty(len(wages))\n",
    "\n",
    "# b. find and save optimal c and l for each wage\n",
    "for i,w in enumerate(wages):\n",
    "    result = optimize.minimize_scalar(equilibrium,bounds=(0,1),args=(v,eps,m,w,t_0,t_1,k), method = \"bounded\")\n",
    "    l_plot[i] = result.x\n",
    "    c_plot[i] = optimal_consumption(l_plot[i],m,w,t_0,t_1,k)\n",
    "    \n",
    "# c. plot optimal l and c as functions of wage\n",
    "plt.style.use('seaborn')\n",
    "fig = plt.figure(figsize=(10,4))\n",
    "\n",
    "ax_left = fig.add_subplot(1,2,1)\n",
    "ax_left.plot(wages, c_plot)\n",
    "ax_left.set_title('Optimal consumption')\n",
    "ax_left.set_xlabel('Wage')\n",
    "ax_left.set_ylabel('Optimal consumption')\n",
    "ax_left.grid(True)\n",
    "\n",
    "ax_right = fig.add_subplot(1,2,2)\n",
    "ax_right.plot(wages,l_plot)\n",
    "ax_right.set_title('Optimal labour supply')\n",
    "ax_right.set_xlabel('Wage')\n",
    "ax_right.set_ylabel('Optimal labour supply')\n",
    "ax_right.grid(True)\n",
    "\n",
    "plt.show"
   ]
  },
  {
   "cell_type": "markdown",
   "metadata": {},
   "source": [
    "# Question 3\n",
    "We define a function to calculate tax revenue:"
   ]
  },
  {
   "cell_type": "code",
   "execution_count": 8,
   "metadata": {},
   "outputs": [],
   "source": [
    "def tax_rev(t_0, t_1, k,pop_size = 10000):\n",
    "    \"\"\" calculates tax revenue \n",
    "    \n",
    "    Args:\n",
    "\n",
    "        t_0 (float): standard labor income tax\n",
    "        t_1 (float): top bracket labor income tax\n",
    "        k (float): cut-off for the top labor income bracket \n",
    "        pop_size (int): default = 10000, population size\n",
    "        \n",
    "    Returns:\n",
    "        (float): total tax revenue\n",
    "    \"\"\"\n",
    "    # a. assign numpy arrays\n",
    "    wages = np.linspace(0.5,1.5,pop_size)\n",
    "    l_star = np.zeros(pop_size)\n",
    "    \n",
    "    # b. find optimal labor choice for each individual\n",
    "    for i, w in enumerate(wages):\n",
    "        res = optimize.minimize_scalar(equilibrium, bounds=(1e-8,1),method='bounded', args = (v,eps,m,w,t_0,t_1,k))\n",
    "        l_star[i]=res.x\n",
    "        \n",
    "    # c. calculate tax for each individual\n",
    "    tax_i = np.zeros(pop_size)\n",
    "    for i in range(pop_size):\n",
    "        tax_i[i] = t_0 * wages[i]*l_star[i] + t_1 * np.fmax(wages[i]*l_star[i]-k,0)\n",
    "   \n",
    "    # d. sum tax revenue from each individual \n",
    "    tax_rev = np.sum(tax_i)\n",
    "    \n",
    "    return tax_rev "
   ]
  },
  {
   "cell_type": "markdown",
   "metadata": {},
   "source": [
    "And calculate the tax revenue for a population of 10.000 individuals and an epsilon of 0.3:"
   ]
  },
  {
   "cell_type": "code",
   "execution_count": 9,
   "metadata": {},
   "outputs": [
    {
     "name": "stdout",
     "output_type": "stream",
     "text": [
      "Tax revenue for epsilon = 0.3 is: 1630.19\n"
     ]
    }
   ],
   "source": [
    "eps = 0.3 # Frisch elasticity of labor supply\n",
    "print(f'Tax revenue for epsilon = {eps:.1f} is: {tax_rev(t_0 = 0.4, t_1 = 0.1, k = 0.4):.2f}') "
   ]
  },
  {
   "cell_type": "markdown",
   "metadata": {},
   "source": [
    "# Question 4\n",
    "We calculate the tax revenue for a population of 10.000 individuals and an epsilon of 0.1:"
   ]
  },
  {
   "cell_type": "code",
   "execution_count": 10,
   "metadata": {},
   "outputs": [
    {
     "name": "stdout",
     "output_type": "stream",
     "text": [
      "Tax revenue for epsilon = 0.1 is: 3196.88\n"
     ]
    }
   ],
   "source": [
    "eps = 0.1 # Frisch elasticity of labor supply\n",
    "print(f'Tax revenue for epsilon = {eps:.1f} is: {tax_rev(t_0 = 0.4, t_1 = 0.1, k = 0.4):.2f}') "
   ]
  },
  {
   "cell_type": "markdown",
   "metadata": {},
   "source": [
    "# Question 5\n",
    "We assume that the income taxes range between 0 and 1. \n",
    "We further assume that the cut-off for the top labor income bracket, $\\kappa$ ranges from 0 to 1.5.\n",
    "The reason is that as labor supply, $l$, has a maximum of 1 and wages have a maximum of 1.5, the maximal total wage is 1.5, implying that the maximal top labor income bracket is 1.5. "
   ]
  },
  {
   "cell_type": "markdown",
   "metadata": {},
   "source": [
    "We start by creating a function that returns the negative tax revenue. The function prints the values used for each iteration to make it easier to follow the optimization. Then we use the optimize function to minimize this function, maximizing tax revenue. "
   ]
  },
  {
   "cell_type": "code",
   "execution_count": 11,
   "metadata": {},
   "outputs": [],
   "source": [
    "def obj(x):\n",
    "    \n",
    "    # a. set global i variable to number iterations\n",
    "    global i \n",
    "\n",
    "    # b. unpack parameters\n",
    "    tau_0 = x[0]\n",
    "    tau_1 = x[1]\n",
    "    kappa = x[2]\n",
    "    \n",
    "    # c. calculate tax revenue given parameters and print result\n",
    "    T = tax_rev(tau_0, tau_1, kappa)\n",
    "    print(f'{i:3d}: t_0 = {x[0]:.8f}, t_1 = {x[1]:.8f}, k = {x[2]:.8f} -> T = {T:.8f}')\n",
    "    \n",
    "    # d. number next iteration\n",
    "    i +=1 \n",
    "    \n",
    "    return -T"
   ]
  },
  {
   "cell_type": "code",
   "execution_count": 12,
   "metadata": {},
   "outputs": [
    {
     "name": "stdout",
     "output_type": "stream",
     "text": [
      "  0: t_0 = 0.40000000, t_1 = 0.10000000, k = 0.40000000 -> T = 1630.18687347\n",
      "  1: t_0 = 0.40000000, t_1 = 0.10000000, k = 0.40000000 -> T = 1630.18687347\n",
      "  2: t_0 = 0.40000001, t_1 = 0.10000000, k = 0.40000000 -> T = 1630.18692038\n",
      "  3: t_0 = 0.40000000, t_1 = 0.10000001, k = 0.40000000 -> T = 1630.18686864\n",
      "  4: t_0 = 0.40000000, t_1 = 0.10000000, k = 0.40000001 -> T = 1630.18686667\n",
      "  5: t_0 = 0.99999727, t_1 = 0.00000028, k = 0.00000039 -> T = 105.59773729\n",
      "  6: t_0 = 0.57395042, t_1 = 0.07100821, k = 0.28403264 -> T = 2139.45484669\n",
      "  7: t_0 = 0.57395042, t_1 = 0.07100821, k = 0.28403264 -> T = 2139.45484669\n",
      "  8: t_0 = 0.57395044, t_1 = 0.07100821, k = 0.28403264 -> T = 2139.45487563\n",
      "  9: t_0 = 0.57395042, t_1 = 0.07100823, k = 0.28403264 -> T = 2139.45483631\n",
      " 10: t_0 = 0.57395042, t_1 = 0.07100821, k = 0.28403265 -> T = 2139.45483654\n",
      " 11: t_0 = 0.87976265, t_1 = 0.00000351, k = 0.00000478 -> T = 2348.76277475\n",
      " 12: t_0 = 0.87976265, t_1 = 0.00000351, k = 0.00000478 -> T = 2348.76277475\n",
      " 13: t_0 = 0.87976267, t_1 = 0.00000351, k = 0.00000478 -> T = 2348.76273113\n",
      " 14: t_0 = 0.87976265, t_1 = 0.00000352, k = 0.00000478 -> T = 2348.76273113\n",
      " 15: t_0 = 0.87976265, t_1 = 0.00000351, k = 0.00000479 -> T = 2348.76277475\n",
      " 16: t_0 = 0.69162943, t_1 = 0.00000246, k = 0.00000131 -> T = 2393.01707600\n",
      " 17: t_0 = 0.77747693, t_1 = 0.00000294, k = 0.00000289 -> T = 2466.22865453\n",
      " 18: t_0 = 0.77747693, t_1 = 0.00000294, k = 0.00000289 -> T = 2466.22865453\n",
      " 19: t_0 = 0.77747694, t_1 = 0.00000294, k = 0.00000289 -> T = 2466.22865687\n",
      " 20: t_0 = 0.77747693, t_1 = 0.00000295, k = 0.00000289 -> T = 2466.22865687\n",
      " 21: t_0 = 0.77747693, t_1 = 0.00000294, k = 0.00000290 -> T = 2466.22865452\n",
      " 22: t_0 = 0.78270184, t_1 = 0.00000000, k = 0.00000000 -> T = 2466.78460213\n",
      " 23: t_0 = 0.78270184, t_1 = 0.00000000, k = 0.00000000 -> T = 2466.78460213\n",
      " 24: t_0 = 0.78270185, t_1 = 0.00000000, k = 0.00000000 -> T = 2466.78460295\n",
      " 25: t_0 = 0.78270184, t_1 = 0.00000001, k = 0.00000000 -> T = 2466.78460295\n",
      " 26: t_0 = 0.78270184, t_1 = 0.00000000, k = 0.00000001 -> T = 2466.78460213\n",
      " 27: t_0 = 0.76419263, t_1 = 0.02132263, k = 0.02431868 -> T = 2461.32557928\n",
      " 28: t_0 = 0.78085092, t_1 = 0.00213226, k = 0.00243187 -> T = 2466.74396897\n",
      " 29: t_0 = 0.78244667, t_1 = 0.00029395, k = 0.00033525 -> T = 2466.78567306\n",
      " 30: t_0 = 0.78244667, t_1 = 0.00029395, k = 0.00033525 -> T = 2466.78567306\n",
      " 31: t_0 = 0.78244669, t_1 = 0.00029395, k = 0.00033525 -> T = 2466.78567388\n",
      " 32: t_0 = 0.78244667, t_1 = 0.00029397, k = 0.00033525 -> T = 2466.78567382\n",
      " 33: t_0 = 0.78244667, t_1 = 0.00029395, k = 0.00033527 -> T = 2466.78567302\n",
      " 34: t_0 = 1.00000000, t_1 = 0.00000000, k = 0.00000000 -> T = 0.96121280\n",
      " 35: t_0 = 0.80420200, t_1 = 0.00026456, k = 0.00030173 -> T = 2463.01629985\n",
      " 36: t_0 = 0.78504755, t_1 = 0.00029044, k = 0.00033125 -> T = 2466.85920598\n",
      " 37: t_0 = 0.78504755, t_1 = 0.00029044, k = 0.00033125 -> T = 2466.85920598\n",
      " 38: t_0 = 0.78504757, t_1 = 0.00029044, k = 0.00033125 -> T = 2466.85920601\n",
      " 39: t_0 = 0.78504755, t_1 = 0.00029045, k = 0.00033125 -> T = 2466.85920596\n",
      " 40: t_0 = 0.78504755, t_1 = 0.00029044, k = 0.00033126 -> T = 2466.85920593\n",
      " 41: t_0 = 0.78543536, t_1 = 0.00000000, k = 0.00000000 -> T = 2466.86034689\n",
      " 42: t_0 = 0.78543536, t_1 = 0.00000000, k = 0.00000000 -> T = 2466.86034689\n",
      " 43: t_0 = 0.78543537, t_1 = 0.00000000, k = 0.00000000 -> T = 2466.86034689\n",
      " 44: t_0 = 0.78543536, t_1 = 0.00000001, k = 0.00000000 -> T = 2466.86034689\n",
      " 45: t_0 = 0.78543536, t_1 = 0.00000000, k = 0.00000001 -> T = 2466.86034689\n",
      "Time elapsed: 189.5181453228 seconds\n"
     ]
    }
   ],
   "source": [
    "start = time.time()\n",
    "\n",
    "# a. initial guess and bounds\n",
    "x0 = np.array([t_0,t_1,k])\n",
    "bounds = ((0,1),(0,1),(0,1.5))\n",
    "\n",
    "# b. call solver\n",
    "i = 0\n",
    "eps = 0.3\n",
    "result = optimize.minimize(obj, x0, method='SLSQP',bounds=bounds)\n",
    "\n",
    "end = time.time()\n",
    "print(f'Time elapsed: {end - start:.10f} seconds')"
   ]
  },
  {
   "cell_type": "code",
   "execution_count": 13,
   "metadata": {},
   "outputs": [
    {
     "name": "stdout",
     "output_type": "stream",
     "text": [
      "Optimal tau0 is 0.7854, tau1 is 0.0000 and kappa is 0.0000\n",
      "We expect the total tax revenue is 2466.8603\n"
     ]
    }
   ],
   "source": [
    "# a. unpack results\n",
    "tau0_best = result.x[0]\n",
    "tau1_best = result.x[1]\n",
    "kappa_best = result.x[2]\n",
    "T_best = -result.fun\n",
    "\n",
    "# b. print results\n",
    "print(f'Optimal tau0 is {tau0_best:.4f}, tau1 is {tau1_best:.4f} and kappa is {kappa_best:.4f}')\n",
    "print(f'We expect the total tax revenue is {T_best:.4f}')"
   ]
  },
  {
   "cell_type": "markdown",
   "metadata": {},
   "source": [
    "# Conclusion"
   ]
  },
  {
   "cell_type": "markdown",
   "metadata": {},
   "source": [
    "In this assignment we have solved the labor supply problem using respectively the scipy optimize function and our own algorithm. The two methods return the same result. We have plotted the optimal consumption and labor supply as functions of wage and calculated tax revenue. Lastly, we have maximized tax revenue with respect to the labor income taxes and the cutoff for the top labor income bracket. "
   ]
  }
 ],
 "metadata": {
  "kernelspec": {
   "display_name": "Python 3",
   "language": "python",
   "name": "python3"
  },
  "language_info": {
   "codemirror_mode": {
    "name": "ipython",
    "version": 3
   },
   "file_extension": ".py",
   "mimetype": "text/x-python",
   "name": "python",
   "nbconvert_exporter": "python",
   "pygments_lexer": "ipython3",
   "version": "3.7.6"
  },
  "toc-autonumbering": false
 },
 "nbformat": 4,
 "nbformat_minor": 4
}
